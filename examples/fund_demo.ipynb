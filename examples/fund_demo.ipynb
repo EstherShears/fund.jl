{
 "metadata": {
  "language": "Julia",
  "name": "",
  "signature": "sha256:b09b563732b415c9a34b241352fbda3e4851cc5b9ca80ec5cd73c9a0d3a26743"
 },
 "nbformat": 3,
 "nbformat_minor": 0,
 "worksheets": [
  {
   "cells": [
    {
     "cell_type": "heading",
     "level": 1,
     "metadata": {},
     "source": [
      "FUND"
     ]
    },
    {
     "cell_type": "markdown",
     "metadata": {},
     "source": [
      "This runs the FUND model and plots some variables."
     ]
    },
    {
     "cell_type": "heading",
     "level": 2,
     "metadata": {},
     "source": [
      "Dependencies"
     ]
    },
    {
     "cell_type": "markdown",
     "metadata": {},
     "source": [
      "Load dependencies"
     ]
    },
    {
     "cell_type": "code",
     "collapsed": false,
     "input": [
      "using IAMF\n",
      "using PyPlot"
     ],
     "language": "python",
     "metadata": {},
     "outputs": []
    },
    {
     "cell_type": "heading",
     "level": 1,
     "metadata": {},
     "source": [
      "Run model"
     ]
    },
    {
     "cell_type": "code",
     "collapsed": false,
     "input": [
      "include(\"../src/fund.jl\");"
     ],
     "language": "python",
     "metadata": {},
     "outputs": []
    },
    {
     "cell_type": "code",
     "collapsed": false,
     "input": [
      "m = getfund()\n",
      "run(m)"
     ],
     "language": "python",
     "metadata": {},
     "outputs": []
    },
    {
     "cell_type": "heading",
     "level": 2,
     "metadata": {},
     "source": [
      "Plot results"
     ]
    },
    {
     "cell_type": "code",
     "collapsed": false,
     "input": [
      "plot([1951:2999], m[:climatedynamics, :temp])\n",
      "title(\"temperature\")\n",
      "xlabel(\"year\")\n",
      "ylabel(\"\u00b0C\");"
     ],
     "language": "python",
     "metadata": {},
     "outputs": []
    },
    {
     "cell_type": "code",
     "collapsed": false,
     "input": [
      "plot([1951:2999], m[:ocean, :sea])\n",
      "title(\"sea-level rise\")\n",
      "xlabel(\"year\")\n",
      "ylabel(\"m\");"
     ],
     "language": "python",
     "metadata": {},
     "outputs": []
    }
   ],
   "metadata": {}
  }
 ]
}