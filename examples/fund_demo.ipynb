{
 "metadata": {
  "language": "Julia",
  "name": "",
  "signature": "sha256:b09b563732b415c9a34b241352fbda3e4851cc5b9ca80ec5cd73c9a0d3a26743"
 },
 "nbformat": 3,
 "nbformat_minor": 0,
 "worksheets": [
  {
   "cells": [
    {
     "cell_type": "heading",
     "level": 1,
     "metadata": {},
     "source": [
      "FUND"
     ]
    },
    {
     "cell_type": "markdown",
     "metadata": {},
     "source": [
      "This runs the FUND model and plots some variables."
     ]
    },
    {
     "cell_type": "heading",
     "level": 2,
     "metadata": {},
     "source": [
      "Dependencies"
     ]
    },
    {
     "cell_type": "markdown",
     "metadata": {},
     "source": [
      "Load dependencies"
     ]
    },
    {
     "cell_type": "code",
     "collapsed": false,
     "input": [
      "using IAMF\n",
      "using Winston"
     ],
     "language": "python",
     "metadata": {},
     "outputs": [],
     "prompt_number": 1
    },
    {
     "cell_type": "code",
     "collapsed": false,
     "input": [
      "include(\"../src/helper.jl\");"
     ],
     "language": "python",
     "metadata": {},
     "outputs": [],
     "prompt_number": 2
    },
    {
     "cell_type": "code",
     "collapsed": false,
     "input": [
      "include(\"../src/SocioEconomicComponent.jl\")\n",
      "include(\"../src/PopulationComponent.jl\")\n",
      "include(\"../src/EmissionsComponent.jl\")\n",
      "include(\"../src/GeographyComponent.jl\")\n",
      "include(\"../src/ScenarioUncertaintyComponent.jl\")\n",
      "include(\"../src/ClimateCO2Cycle.jl\")\n",
      "include(\"../src/ClimateCH4CycleComponent.jl\")\n",
      "include(\"../src/ClimateN2OCycleComponent.jl\")\n",
      "include(\"../src/ClimateSF6CycleComponent.jl\")\n",
      "include(\"../src/ClimateForcingComponent.jl\")\n",
      "include(\"../src/ClimateDynamicsComponent.jl\")\n",
      "include(\"../src/BioDiversityComponent.jl\")\n",
      "include(\"../src/ClimateRegionalComponent.jl\")\n",
      "include(\"../src/OceanComponent.jl\")\n",
      "include(\"../src/ImpactAgricultureComponent.jl\")\n",
      "include(\"../src/ImpactBioDiversityComponent.jl\")\n",
      "include(\"../src/ImpactCardiovascularRespiratoryComponent.jl\")\n",
      "include(\"../src/ImpactCoolingComponent.jl\")\n",
      "include(\"../src/ImpactDiarrhoeaComponent.jl\")\n",
      "include(\"../src/ImpactExtratropicalStormsComponent.jl\")\n",
      "include(\"../src/ImpactDeathMorbidityComponent.jl\")\n",
      "include(\"../src/ImpactForests.jl\")\n",
      "include(\"../src/ImpactHeatingComponent.jl\")\n",
      "include(\"../src/ImpactVectorBorneDiseasesComponent.jl\")\n",
      "include(\"../src/ImpactTropicalStormsComponent.jl\")\n",
      "include(\"../src/ImpactWaterResourcesComponent.jl\")\n",
      "include(\"../src/ImpactSeaLevelRiseComponent.jl\")\n",
      "include(\"../src/ImpactAggregationComponent.jl\")"
     ],
     "language": "python",
     "metadata": {},
     "outputs": [
      {
       "metadata": {},
       "output_type": "pyout",
       "prompt_number": 3,
       "text": [
        "timestep (generic function with 29 methods)"
       ]
      }
     ],
     "prompt_number": 3
    },
    {
     "cell_type": "heading",
     "level": 2,
     "metadata": {},
     "source": [
      "Read and prep data from files"
     ]
    },
    {
     "cell_type": "code",
     "collapsed": false,
     "input": [
      "files = readdir(\"../data\")\n",
      "parameters = {lowercase(splitext(file)[1]) => readdlm(joinpath(\"../data\",file), ',') for file in files}\n",
      "prepparameters!(parameters)"
     ],
     "language": "python",
     "metadata": {},
     "outputs": [],
     "prompt_number": 4
    },
    {
     "cell_type": "heading",
     "level": 2,
     "metadata": {},
     "source": [
      "Create model"
     ]
    },
    {
     "cell_type": "markdown",
     "metadata": {},
     "source": [
      "Create the model object and set the number of timesteps and regions."
     ]
    },
    {
     "cell_type": "code",
     "collapsed": false,
     "input": [
      "nsteps = 1049\n",
      "\n",
      "m = Model()\n",
      "\n",
      "setindex(m, :time, nsteps)\n",
      "setindex(m, :regions, 16)"
     ],
     "language": "python",
     "metadata": {},
     "outputs": [],
     "prompt_number": 5
    },
    {
     "cell_type": "markdown",
     "metadata": {},
     "source": [
      "Add components to model."
     ]
    },
    {
     "cell_type": "code",
     "collapsed": false,
     "input": [
      "addcomponent(m, scenariouncertainty)\n",
      "addcomponent(m, population)\n",
      "addcomponent(m, geography)\n",
      "addcomponent(m, socioeconomic)\n",
      "addcomponent(m, socioeconomic)\n",
      "addcomponent(m, emissions)\n",
      "addcomponent(m, climateco2cycle)\n",
      "addcomponent(m, climatech4cycle)\n",
      "addcomponent(m, climaten2ocycle)\n",
      "addcomponent(m, climatesf6cycle)\n",
      "addcomponent(m, climateforcing)\n",
      "addcomponent(m, climatedynamics)\n",
      "addcomponent(m, biodiversity)\n",
      "addcomponent(m, climateregional)\n",
      "addcomponent(m, ocean)\n",
      "addcomponent(m, impactagriculture)\n",
      "addcomponent(m, impactbiodiversity)\n",
      "addcomponent(m, impactcardiovascularrespiratory)\n",
      "addcomponent(m, impactcooling)\n",
      "addcomponent(m, impactdiarrhoea)\n",
      "addcomponent(m, impactextratropicalstorms)\n",
      "addcomponent(m, impactforests)\n",
      "addcomponent(m, impactheating)\n",
      "addcomponent(m, impactvectorbornediseases)\n",
      "addcomponent(m, impacttropicalstorms)\n",
      "addcomponent(m, impactdeathmorbidity)\n",
      "addcomponent(m, impactwaterresources)\n",
      "addcomponent(m, impactsealevelrise)\n",
      "addcomponent(m, impactaggregation)"
     ],
     "language": "python",
     "metadata": {},
     "outputs": [],
     "prompt_number": 6
    },
    {
     "cell_type": "markdown",
     "metadata": {},
     "source": [
      "Set parameters."
     ]
    },
    {
     "cell_type": "code",
     "collapsed": false,
     "input": [
      "setparameter(m, :population, :runwithoutpopulationperturbation, false)\n",
      "\n",
      "setparameter(m, :socioeconomic, :runwithoutdamage, false)\n",
      "setparameter(m, :socioeconomic, :savingsrate, 0.2)"
     ],
     "language": "python",
     "metadata": {},
     "outputs": [],
     "prompt_number": 7
    },
    {
     "cell_type": "markdown",
     "metadata": {},
     "source": [
      "Connect components."
     ]
    },
    {
     "cell_type": "code",
     "collapsed": false,
     "input": [
      "bindparameter(m, :geography, :landloss, :impactsealevelrise)\n",
      "\n",
      "bindparameter(m, :population, :pgrowth, :scenariouncertainty)\n",
      "bindparameter(m, :population, :enter, :impactsealevelrise)\n",
      "bindparameter(m, :population, :leave, :impactsealevelrise)\n",
      "bindparameter(m, :population, :dead, :impactdeathmorbidity)\n",
      "\n",
      "bindparameter(m, :socioeconomic, :area, :geography)    \n",
      "bindparameter(m, :socioeconomic, :globalpopulation, :population)  \n",
      "bindparameter(m, :socioeconomic, :populationin1, :population)    \n",
      "bindparameter(m, :socioeconomic, :population, :population)    \n",
      "bindparameter(m, :socioeconomic, :pgrowth, :scenariouncertainty)  \n",
      "bindparameter(m, :socioeconomic, :ypcgrowth, :scenariouncertainty)\n",
      "bindparameter(m, :socioeconomic, :eloss, :impactaggregation)\n",
      "bindparameter(m, :socioeconomic, :sloss, :impactaggregation)\n",
      "bindparameter(m, :socioeconomic, :mitigationcost, :emissions)\n",
      "\n",
      "bindparameter(m, :emissions, :income, :socioeconomic)\n",
      "bindparameter(m, :emissions, :population, :population)\n",
      "bindparameter(m, :emissions, :forestemm, :scenariouncertainty)\n",
      "bindparameter(m, :emissions, :aeei, :scenariouncertainty)\n",
      "bindparameter(m, :emissions, :acei, :scenariouncertainty)\n",
      "bindparameter(m, :emissions, :ypcgrowth, :scenariouncertainty)\n",
      "\n",
      "bindparameter(m, :climateco2cycle, :mco2, :emissions)\n",
      "\n",
      "bindparameter(m, :climatech4cycle, :globch4, :emissions)\n",
      "\n",
      "bindparameter(m, :climaten2ocycle, :globn2o, :emissions)\n",
      "\n",
      "bindparameter(m, :climateco2cycle, :temp, :climatedynamics)\n",
      "\n",
      "bindparameter(m, :climatesf6cycle, :globsf6, :emissions)\n",
      "\n",
      "bindparameter(m, :climateforcing, :acco2, :climateco2cycle)\n",
      "bindparameter(m, :climateforcing, :acch4, :climatech4cycle)\n",
      "bindparameter(m, :climateforcing, :acn2o, :climaten2ocycle)\n",
      "bindparameter(m, :climateforcing, :acsf6, :climatesf6cycle)\n",
      "\n",
      "bindparameter(m, :climatedynamics, :radforc, :climateforcing)\n",
      "\n",
      "bindparameter(m, :climateregional, :inputtemp, :climatedynamics, :temp)\n",
      "\n",
      "bindparameter(m, :biodiversity, :temp, :climatedynamics)\n",
      "\n",
      "bindparameter(m, :ocean, :temp, :climatedynamics)\n",
      "\n",
      "bindparameter(m, :impactagriculture, :population, :population)\n",
      "bindparameter(m, :impactagriculture, :income, :socioeconomic)\n",
      "bindparameter(m, :impactagriculture, :temp, :climateregional)\n",
      "bindparameter(m, :impactagriculture, :acco2, :climateco2cycle)\n",
      "\n",
      "bindparameter(m, :impactbiodiversity, :temp, :climateregional)\n",
      "bindparameter(m, :impactbiodiversity, :nospecies, :biodiversity)\n",
      "bindparameter(m, :impactbiodiversity, :income, :socioeconomic)\n",
      "bindparameter(m, :impactbiodiversity, :population, :population)\n",
      "\n",
      "bindparameter(m, :impactcardiovascularrespiratory, :population, :population)\n",
      "bindparameter(m, :impactcardiovascularrespiratory, :temp, :climateregional)\n",
      "bindparameter(m, :impactcardiovascularrespiratory, :plus, :socioeconomic)\n",
      "bindparameter(m, :impactcardiovascularrespiratory, :urbpop, :socioeconomic)\n",
      "\n",
      "bindparameter(m, :impactcooling, :population, :population)\n",
      "bindparameter(m, :impactcooling, :income, :socioeconomic)\n",
      "bindparameter(m, :impactcooling, :temp, :climateregional)\n",
      "bindparameter(m, :impactcooling, :cumaeei, :emissions)\n",
      "\n",
      "bindparameter(m, :impactdiarrhoea, :population, :population)\n",
      "bindparameter(m, :impactdiarrhoea, :income, :socioeconomic)\n",
      "bindparameter(m, :impactdiarrhoea, :regtmp, :climateregional)\n",
      "\n",
      "bindparameter(m, :impactextratropicalstorms, :population, :population)\n",
      "bindparameter(m, :impactextratropicalstorms, :income, :socioeconomic)\n",
      "bindparameter(m, :impactextratropicalstorms, :acco2, :climateco2cycle)\n",
      "\n",
      "bindparameter(m, :impactforests, :population, :population)\n",
      "bindparameter(m, :impactforests, :income, :socioeconomic)\n",
      "bindparameter(m, :impactforests, :temp, :climateregional)\n",
      "bindparameter(m, :impactforests, :acco2, :climateco2cycle)\n",
      "\n",
      "bindparameter(m, :impactheating, :population, :population)\n",
      "bindparameter(m, :impactheating, :income, :socioeconomic)\n",
      "bindparameter(m, :impactheating, :temp, :climateregional)\n",
      "bindparameter(m, :impactheating, :cumaeei, :emissions)\n",
      "\n",
      "bindparameter(m, :impactvectorbornediseases, :population, :population)\n",
      "bindparameter(m, :impactvectorbornediseases, :income, :socioeconomic)\n",
      "bindparameter(m, :impactvectorbornediseases, :temp, :climateregional)\n",
      "\n",
      "bindparameter(m, :impacttropicalstorms, :population, :population)\n",
      "bindparameter(m, :impacttropicalstorms, :income, :socioeconomic)\n",
      "bindparameter(m, :impacttropicalstorms, :regstmp, :climateregional)\n",
      "\n",
      "bindparameter(m, :impactdeathmorbidity, :population, :population)\n",
      "bindparameter(m, :impactdeathmorbidity, :income, :socioeconomic)\n",
      "bindparameter(m, :impactdeathmorbidity, :dengue, :impactvectorbornediseases)\n",
      "bindparameter(m, :impactdeathmorbidity, :schisto, :impactvectorbornediseases)\n",
      "bindparameter(m, :impactdeathmorbidity, :malaria, :impactvectorbornediseases)\n",
      "bindparameter(m, :impactdeathmorbidity, :cardheat, :impactcardiovascularrespiratory)\n",
      "bindparameter(m, :impactdeathmorbidity, :cardcold, :impactcardiovascularrespiratory)\n",
      "bindparameter(m, :impactdeathmorbidity, :resp, :impactcardiovascularrespiratory)\n",
      "bindparameter(m, :impactdeathmorbidity, :diadead, :impactdiarrhoea)\n",
      "bindparameter(m, :impactdeathmorbidity, :hurrdead, :impacttropicalstorms)\n",
      "bindparameter(m, :impactdeathmorbidity, :extratropicalstormsdead, :impactextratropicalstorms)\n",
      "bindparameter(m, :impactdeathmorbidity, :diasick, :impactdiarrhoea)\n",
      "\n",
      "bindparameter(m, :impactwaterresources, :population, :population)\n",
      "bindparameter(m, :impactwaterresources, :income, :socioeconomic)\n",
      "bindparameter(m, :impactwaterresources, :temp, :climateregional)\n",
      "\n",
      "bindparameter(m, :impactsealevelrise, :population, :population)\n",
      "bindparameter(m, :impactsealevelrise, :income, :socioeconomic)\n",
      "bindparameter(m, :impactsealevelrise, :sea, :ocean)\n",
      "bindparameter(m, :impactsealevelrise, :area, :geography)\n",
      "\n",
      "bindparameter(m, :impactaggregation, :income, :socioeconomic)\n",
      "bindparameter(m, :impactaggregation, :heating, :impactheating)\n",
      "bindparameter(m, :impactaggregation, :cooling, :impactcooling)\n",
      "bindparameter(m, :impactaggregation, :agcost, :impactagriculture)\n",
      "bindparameter(m, :impactaggregation, :species, :impactbiodiversity)\n",
      "bindparameter(m, :impactaggregation, :water, :impactwaterresources)\n",
      "bindparameter(m, :impactaggregation, :hurrdam, :impacttropicalstorms)\n",
      "bindparameter(m, :impactaggregation, :extratropicalstormsdam, :impactextratropicalstorms)\n",
      "bindparameter(m, :impactaggregation, :forests, :impactforests)\n",
      "bindparameter(m, :impactaggregation, :drycost, :impactsealevelrise)\n",
      "bindparameter(m, :impactaggregation, :protcost, :impactsealevelrise)\n",
      "bindparameter(m, :impactaggregation, :entercost, :impactsealevelrise)\n",
      "bindparameter(m, :impactaggregation, :deadcost, :impactdeathmorbidity)\n",
      "bindparameter(m, :impactaggregation, :morbcost, :impactdeathmorbidity)\n",
      "bindparameter(m, :impactaggregation, :wetcost, :impactsealevelrise)\n",
      "bindparameter(m, :impactaggregation, :leavecost, :impactsealevelrise)"
     ],
     "language": "python",
     "metadata": {},
     "outputs": [],
     "prompt_number": 8
    },
    {
     "cell_type": "markdown",
     "metadata": {},
     "source": [
      "For any parameter that is not yet set or bound to some other component, load value from file."
     ]
    },
    {
     "cell_type": "code",
     "collapsed": false,
     "input": [
      "setleftoverparameters(m, parameters)"
     ],
     "language": "python",
     "metadata": {},
     "outputs": [],
     "prompt_number": 9
    },
    {
     "cell_type": "heading",
     "level": 2,
     "metadata": {},
     "source": [
      "Run model"
     ]
    },
    {
     "cell_type": "code",
     "collapsed": false,
     "input": [
      "run(m)"
     ],
     "language": "python",
     "metadata": {},
     "outputs": [],
     "prompt_number": 10
    },
    {
     "cell_type": "heading",
     "level": 2,
     "metadata": {},
     "source": [
      "Plot results"
     ]
    },
    {
     "cell_type": "code",
     "collapsed": false,
     "input": [
      "plot(getvariable(m, :climatedynamics, :temp))\n",
      "title(\"temperature\")\n",
      "xlabel(\"year\")\n",
      "ylabel(\"\u00b0C\")"
     ],
     "language": "python",
     "metadata": {},
     "outputs": [
      {
       "metadata": {},
       "output_type": "pyout",
       "png": "[encoded data removed]",
       "prompt_number": 11,
       "text": [
        "FramedPlot(...)"
       ]
      }
     ],
     "prompt_number": 11
    },
    {
     "cell_type": "code",
     "collapsed": false,
     "input": [
      "plot(getvariable(m, :ocean, :sea))\n",
      "title(\"sea-level rise\")\n",
      "xlabel(\"year\")\n",
      "ylabel(\"m\")"
     ],
     "language": "python",
     "metadata": {},
     "outputs": [
      {
       "metadata": {},
       "output_type": "pyout",
       "png": "[encoded data removed]",
       "prompt_number": 12,
       "text": [
        "FramedPlot(...)"
       ]
      }
     ],
     "prompt_number": 12
    }
   ],
   "metadata": {}
  }
 ]
}